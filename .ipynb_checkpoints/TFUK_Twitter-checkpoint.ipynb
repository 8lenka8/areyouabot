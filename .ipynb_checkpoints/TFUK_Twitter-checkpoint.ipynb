{
 "cells": [
  {
   "cell_type": "code",
   "execution_count": 1,
   "metadata": {},
   "outputs": [],
   "source": [
    "import pandas as pd\n",
    "from selenium import webdriver\n",
    "from selenium.webdriver.common.by import By\n",
    "from time import sleep\n",
    "\n",
    "from tw_scrape import *"
   ]
  },
  {
   "cell_type": "raw",
   "metadata": {},
   "source": [
    "#Profile name\n",
    "#Bio\n",
    "#emoji\n",
    "#protected\n",
    "#bluetick"
   ]
  },
  {
   "cell_type": "code",
   "execution_count": 2,
   "metadata": {
    "scrolled": false
   },
   "outputs": [],
   "source": [
    "o = webdriver.ChromeOptions()\n",
    "o.add_argument('headless')\n",
    "o.add_argument('log-level=3')\n",
    "w = webdriver.Chrome(chrome_options=o)\n",
    "twitter_url = 'https://twitter.com/Jonteinspain/followers?lang=en-gb'"
   ]
  },
  {
   "cell_type": "code",
   "execution_count": 3,
   "metadata": {},
   "outputs": [],
   "source": [
    "w.get(twitter_url)\n",
    "w.execute_script('document.getElementsByName(\\'session[username_or_email]\\')[1].setAttribute(\\'value\\',\\'TfukT\\')')\n",
    "w.execute_script('document.getElementsByName(\\'session[password]\\')[1].setAttribute(\\'value\\',\\'TFUK2019!\\')')\n",
    "sleep(1)\n",
    "w.execute_script('document.getElementsByClassName(\\'submit EdgeButton EdgeButton--primary EdgeButtom--medium\\')[0].click()')"
   ]
  },
  {
   "cell_type": "code",
   "execution_count": 4,
   "metadata": {},
   "outputs": [],
   "source": [
    "count = 50\n",
    "while count !=0:\n",
    "    w.execute_script(\"window.scrollBy(0,100000)\")\n",
    "    sleep(0.5)\n",
    "    count = count-1\n",
    "\n",
    "x = w.find_elements_by_class_name('ProfileCard')"
   ]
  },
  {
   "cell_type": "code",
   "execution_count": 5,
   "metadata": {
    "scrolled": true
   },
   "outputs": [],
   "source": [
    "accounts_d = pd.DataFrame({'name':[],'screen_name':[],'bio':[],'emoji':[]})\n",
    "\n",
    "for i in range(len(x)):\n",
    "        \n",
    "    d = pd.DataFrame({'name':[x[i].find_element_by_class_name('ProfileNameTruncated').text]})\n",
    "    d['screen_name'] = x[i].find_element_by_class_name('ProfileCard-screenname').text\n",
    "    d['bio'] = x[i].find_element_by_class_name('ProfileCard-bio').text\n",
    "    \n",
    "    try:\n",
    "        emojis = x[i].find_elements_by_class_name('Emoji')\n",
    "        e_list = []    \n",
    "        for e in emojis:\n",
    "            e_list.append(e.get_attribute('title'))\n",
    "        d['emoji'] = str(e_list)\n",
    "    except:\n",
    "        d['emoji'] = 'no emojis'\n",
    "    \n",
    "    accounts_d = accounts_d.append(d)"
   ]
  },
  {
   "cell_type": "code",
   "execution_count": null,
   "metadata": {
    "scrolled": false
   },
   "outputs": [],
   "source": [
    "tw_extract_d('https://twitter.com/Jonteinspain/followers?lang=en-gb',20)"
   ]
  }
 ],
 "metadata": {
  "kernelspec": {
   "display_name": "Python 3",
   "language": "python",
   "name": "python3"
  },
  "language_info": {
   "codemirror_mode": {
    "name": "ipython",
    "version": 3
   },
   "file_extension": ".py",
   "mimetype": "text/x-python",
   "name": "python",
   "nbconvert_exporter": "python",
   "pygments_lexer": "ipython3",
   "version": "3.6.4"
  }
 },
 "nbformat": 4,
 "nbformat_minor": 2
}
